{
  "nbformat": 4,
  "nbformat_minor": 0,
  "metadata": {
    "colab": {
      "provenance": [],
      "authorship_tag": "ABX9TyP/U3xHxUg09njIX2/bdWkp",
      "include_colab_link": true
    },
    "kernelspec": {
      "name": "python3",
      "display_name": "Python 3"
    },
    "language_info": {
      "name": "python"
    }
  },
  "cells": [
    {
      "cell_type": "markdown",
      "metadata": {
        "id": "view-in-github",
        "colab_type": "text"
      },
      "source": [
        "<a href=\"https://colab.research.google.com/github/shabnajL/Side-Projects-Repository/blob/master/spell-checker/spelling_checker.ipynb\" target=\"_parent\"><img src=\"https://colab.research.google.com/assets/colab-badge.svg\" alt=\"Open In Colab\"/></a>"
      ]
    },
    {
      "cell_type": "code",
      "source": [
        "from textblob import TextBlob\n",
        "\n",
        "words = [\"Ntural\", \"Luanguage\", \"Processin\", \"daels\", \"wiht\", \"art od\", \"extrcatign\", \"insightes\", \"frm\", \"Natureal\", \"Languaage!\"]\n",
        "corrected_words = []\n",
        "for word in words:\n",
        "    corrected_words.append(TextBlob(word))\n",
        "\n",
        "for word in corrected_words:\n",
        "    print(word.correct(), end=\" \")\n",
        "\n",
        "\n"
      ],
      "metadata": {
        "colab": {
          "base_uri": "https://localhost:8080/"
        },
        "id": "Zq0Ypx7r8KS5",
        "outputId": "4cca0287-b700-4724-fcf2-e229d6d8646d"
      },
      "execution_count": 20,
      "outputs": [
        {
          "output_type": "stream",
          "name": "stdout",
          "text": [
            "Natural Language Procession deals with art of extraction insight from Natural Language! "
          ]
        }
      ]
    }
  ]
}